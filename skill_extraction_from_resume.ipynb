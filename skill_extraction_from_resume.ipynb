{
 "cells": [
  {
   "cell_type": "code",
   "execution_count": 1,
   "metadata": {},
   "outputs": [],
   "source": [
    "import os\n",
    "import re\n",
    "import glob\n",
    "import textract\n",
    "import pandas as pd\n",
    "\n",
    "import spacy\n",
    "from spacy.matcher import PhraseMatcher\n",
    "nlp = spacy.load('en_core_web_sm')"
   ]
  },
  {
   "cell_type": "code",
   "execution_count": 2,
   "metadata": {},
   "outputs": [],
   "source": [
    "#Get all the file names of resume's to be processed\n",
    "RESUME_PATH = 'sample_resume/'\n",
    "raw_list = glob.glob(RESUME_PATH+\"*.*\")\n",
    "resume_list = [resume_path for resume_path in raw_list if resume_path[-4:] in ('.doc','.pdf', 'docx')]"
   ]
  },
  {
   "cell_type": "code",
   "execution_count": 3,
   "metadata": {},
   "outputs": [
    {
     "data": {
      "text/html": [
       "<div>\n",
       "<style scoped>\n",
       "    .dataframe tbody tr th:only-of-type {\n",
       "        vertical-align: middle;\n",
       "    }\n",
       "\n",
       "    .dataframe tbody tr th {\n",
       "        vertical-align: top;\n",
       "    }\n",
       "\n",
       "    .dataframe thead th {\n",
       "        text-align: right;\n",
       "    }\n",
       "</style>\n",
       "<table border=\"1\" class=\"dataframe\">\n",
       "  <thead>\n",
       "    <tr style=\"text-align: right;\">\n",
       "      <th></th>\n",
       "      <th>resume_text</th>\n",
       "      <th>resume_path</th>\n",
       "    </tr>\n",
       "  </thead>\n",
       "  <tbody>\n",
       "    <tr>\n",
       "      <th>0</th>\n",
       "      <td>\\n\\nSample 1\\n\\n\\nEmail    : sample1@gmail.com...</td>\n",
       "      <td>sample1.doc</td>\n",
       "    </tr>\n",
       "    <tr>\n",
       "      <th>1</th>\n",
       "      <td>Sample 2       Machine Learning Engineer\\n\\n\\t...</td>\n",
       "      <td>sample2.docx</td>\n",
       "    </tr>\n",
       "  </tbody>\n",
       "</table>\n",
       "</div>"
      ],
      "text/plain": [
       "                                         resume_text   resume_path\n",
       "0  \\n\\nSample 1\\n\\n\\nEmail    : sample1@gmail.com...   sample1.doc\n",
       "1  Sample 2       Machine Learning Engineer\\n\\n\\t...  sample2.docx"
      ]
     },
     "execution_count": 3,
     "metadata": {},
     "output_type": "execute_result"
    }
   ],
   "source": [
    "#extract text from all the files\n",
    "db_entries = []\n",
    "\n",
    "for sno, path in enumerate(resume_list):\n",
    "    try:\n",
    "        data = [textract.process(path).decode(\"utf-8\"), path.replace(RESUME_PATH,'')]\n",
    "        db_entries.append(data)\n",
    "    except:\n",
    "        pass\n",
    "\n",
    "df = pd.DataFrame(db_entries, columns=['resume_text', 'resume_path'])\n",
    "df.head()"
   ]
  },
  {
   "cell_type": "code",
   "execution_count": 4,
   "metadata": {},
   "outputs": [],
   "source": [
    "#creating skills of interest for extracting from resume's if available\n",
    "skills = ['python', 'sql', 'sql', 'mysql', '.bigquery', 'mssql']"
   ]
  },
  {
   "cell_type": "code",
   "execution_count": 5,
   "metadata": {},
   "outputs": [],
   "source": [
    "#Define the spacy phrase matcher\n",
    "matcher = PhraseMatcher(nlp.vocab)\n",
    "\n",
    "pattern = [nlp.make_doc(text) for text in skills]\n",
    "\n",
    "matcher.add(\"skills\", None, *pattern)"
   ]
  },
  {
   "cell_type": "code",
   "execution_count": 6,
   "metadata": {},
   "outputs": [],
   "source": [
    "#simple function for preprocessing and keyword extraction\n",
    "def clean_text(raw_text):\n",
    "    '''clean text to remove unwanted \n",
    "    characters and convert to lowercase'''\n",
    "    clean_text = ' '.join(re.findall(r'[a-z0-9\\']+', raw_text.lower()))\n",
    "    return clean_text\n",
    "\n",
    "def get_keywords(text):\n",
    "    '''exctract keywords from text \n",
    "    based on spacy rule matcher\n",
    "    Args: param: text as string\n",
    "    Returns: list of kerwords'''\n",
    "    \n",
    "    doc = nlp(text)\n",
    "    matches = matcher(doc)\n",
    "    match_lst = []\n",
    "    \n",
    "    for match_id, start, end in matches:\n",
    "        span = doc[start:end]\n",
    "        match_lst.append(span.text)\n",
    "    return ', '.join(list(set(match_lst)))"
   ]
  },
  {
   "cell_type": "code",
   "execution_count": 7,
   "metadata": {},
   "outputs": [
    {
     "data": {
      "text/html": [
       "<div>\n",
       "<style scoped>\n",
       "    .dataframe tbody tr th:only-of-type {\n",
       "        vertical-align: middle;\n",
       "    }\n",
       "\n",
       "    .dataframe tbody tr th {\n",
       "        vertical-align: top;\n",
       "    }\n",
       "\n",
       "    .dataframe thead th {\n",
       "        text-align: right;\n",
       "    }\n",
       "</style>\n",
       "<table border=\"1\" class=\"dataframe\">\n",
       "  <thead>\n",
       "    <tr style=\"text-align: right;\">\n",
       "      <th></th>\n",
       "      <th>resume_text</th>\n",
       "      <th>resume_path</th>\n",
       "      <th>clean_text</th>\n",
       "      <th>skills</th>\n",
       "    </tr>\n",
       "  </thead>\n",
       "  <tbody>\n",
       "    <tr>\n",
       "      <th>0</th>\n",
       "      <td>\\n\\nSample 1\\n\\n\\nEmail    : sample1@gmail.com...</td>\n",
       "      <td>sample1.doc</td>\n",
       "      <td>sample 1 email sample1 gmail com 1 mobile 91 1...</td>\n",
       "      <td>mysql, python</td>\n",
       "    </tr>\n",
       "    <tr>\n",
       "      <th>1</th>\n",
       "      <td>Sample 2       Machine Learning Engineer\\n\\n\\t...</td>\n",
       "      <td>sample2.docx</td>\n",
       "      <td>sample 2 machine learning engineer mobile 9198...</td>\n",
       "      <td>sql, python</td>\n",
       "    </tr>\n",
       "  </tbody>\n",
       "</table>\n",
       "</div>"
      ],
      "text/plain": [
       "                                         resume_text   resume_path  \\\n",
       "0  \\n\\nSample 1\\n\\n\\nEmail    : sample1@gmail.com...   sample1.doc   \n",
       "1  Sample 2       Machine Learning Engineer\\n\\n\\t...  sample2.docx   \n",
       "\n",
       "                                          clean_text         skills  \n",
       "0  sample 1 email sample1 gmail com 1 mobile 91 1...  mysql, python  \n",
       "1  sample 2 machine learning engineer mobile 9198...    sql, python  "
      ]
     },
     "execution_count": 7,
     "metadata": {},
     "output_type": "execute_result"
    }
   ],
   "source": [
    "df['clean_text'] = df['resume_text'].apply(clean_text)\n",
    "df['skills'] = df['clean_text'].apply(get_keywords)\n",
    "df.head()"
   ]
  },
  {
   "cell_type": "code",
   "execution_count": 8,
   "metadata": {},
   "outputs": [],
   "source": [
    "df.to_csv('resume_keywords.csv')"
   ]
  }
 ],
 "metadata": {
  "kernelspec": {
   "display_name": "Python 3",
   "language": "python",
   "name": "python3"
  },
  "language_info": {
   "codemirror_mode": {
    "name": "ipython",
    "version": 3
   },
   "file_extension": ".py",
   "mimetype": "text/x-python",
   "name": "python",
   "nbconvert_exporter": "python",
   "pygments_lexer": "ipython3",
   "version": "3.7.6"
  }
 },
 "nbformat": 4,
 "nbformat_minor": 4
}
